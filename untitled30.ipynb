{
  "nbformat": 4,
  "nbformat_minor": 0,
  "metadata": {
    "colab": {
      "provenance": [],
      "authorship_tag": "ABX9TyMfArRsC7qLvNWgK6VHI7Dn",
      "include_colab_link": true
    },
    "kernelspec": {
      "name": "python3",
      "display_name": "Python 3"
    },
    "language_info": {
      "name": "python"
    }
  },
  "cells": [
    {
      "cell_type": "markdown",
      "metadata": {
        "id": "view-in-github",
        "colab_type": "text"
      },
      "source": [
        "<a href=\"https://colab.research.google.com/github/Seba1905lobos/sebastianlobos_PGY1121_006V_D/blob/main/untitled30.ipynb\" target=\"_parent\"><img src=\"https://colab.research.google.com/assets/colab-badge.svg\" alt=\"Open In Colab\"/></a>"
      ]
    },
    {
      "cell_type": "code",
      "source": [
        "tablero = [[\"[ ]\" for _ in range(3)] for _ in range(3)]\n",
        "coordenadas_X = []\n",
        "\n",
        "nombres = []\n",
        "rut = \"\"\n",
        "telefono = \"\"\n",
        "email = \"\"\n",
        "\n",
        "def mostrar_tablero():\n",
        "    print(\"  0   1   2\")\n",
        "    for i in range(len(tablero)):\n",
        "        print(str(i) + \" \".join(tablero[i]))\n",
        "\n",
        "def actualizar_coordenada(fila, columna):\n",
        "    tablero[fila][columna] = \"[X]\"\n",
        "    coordenadas_X.append((fila, columna))\n",
        "\n",
        "def obtener_datos_personales():\n",
        "    global nombres, rut, telefono, email\n",
        "\n",
        "    nombre = input(\"Ingresa tu nombre completo: \")\n",
        "    nombres.append(nombre)\n",
        "\n",
        "    rut = input(\"Ingresa tu RUT: \")\n",
        "    while not rut.isdigit() or len(rut) != 9:\n",
        "        print(\"El RUT es inválido. Debe contener solo números y tener una longitud de 9 caracteres.\")\n",
        "        rut = input(\"Ingresa tu RUT: \")\n",
        "\n",
        "    telefono = input(\"Ingresa tu número de teléfono: \")\n",
        "    while not telefono.isdigit() or len(telefono) != 9:\n",
        "        print(\"El número de teléfono es inválido. Debe contener solo números y tener una longitud de 9 caracteres.\")\n",
        "        telefono = input(\"Ingresa tu número de teléfono: \")\n",
        "\n",
        "    email = input(\"Ingresa tu dirección de correo electrónico: \")\n",
        "\n",
        "    print(\"Datos personales:\")\n",
        "    print(\"RUT:\", rut)\n",
        "    print(\"Nombre:\", nombre)\n",
        "    print(\"Teléfono:\", telefono)\n",
        "    print(\"Email:\", email)\n",
        "\n",
        "    print(\"¡Gracias, \" + nombre + \", por proporcionar tus datos personales!\")\n",
        "\n",
        "while True:\n",
        "    print(\"\\n--- MENÚ ---\")\n",
        "    print(\"[1] Ver disponibilidad de lotes\")\n",
        "    print(\"[2] Seleccionar un lote\")\n",
        "    print(\"[3] Ver datos personales\")\n",
        "    print(\"[4] Salir\")\n",
        "\n",
        "    opcion = input(\"Seleccione una opción: \")\n",
        "\n",
        "    if opcion == \"1\":\n",
        "        mostrar_tablero()\n",
        "    elif opcion == \"2\":\n",
        "        obtener_datos_personales()\n",
        "\n",
        "        coordenada = input(\"Ingrese la coordenada (fila, columna): \")\n",
        "\n",
        "        if len(coordenada) != 3 or coordenada[1] != \",\":\n",
        "            print(\"Coordenada inválida. Intente nuevamente.\")\n",
        "\n",
        "        try:\n",
        "            fila = int(coordenada[0])\n",
        "            columna = int(coordenada[2])\n",
        "\n",
        "            if fila < 0 or fila > 3 or columna < 0 or columna > 3:\n",
        "                print(\"Coordenada fuera de rango. Intente nuevamente.\")\n",
        "                continue\n",
        "\n",
        "            if (fila, columna) in coordenadas_X:\n",
        "                print(\"Esa coordenada ya está ocupada. Intente nuevamente.\")\n",
        "\n",
        "            actualizar_coordenada(fila, columna)\n",
        "            print(\"Coordenada actualizada con éxito.\")\n",
        "            mostrar_tablero()\n",
        "\n",
        "        except ValueError:\n",
        "            print(\"Coordenada inválida. Intente nuevamente.\")\n",
        "    elif opcion == \"3\":\n",
        "        if nombres:\n",
        "            print(\"Nombres:\")\n",
        "            for nombre in nombres:\n",
        "                print(nombre)\n",
        "    elif opcion == \"4\":\n",
        "        print(\"¡Que tengas un buen día!\")\n",
        "        break\n"
      ],
      "metadata": {
        "id": "zbV9sisMgr1E"
      },
      "execution_count": null,
      "outputs": []
    },
    {
      "cell_type": "code",
      "source": [],
      "metadata": {
        "id": "ULAzENX1kB3D"
      },
      "execution_count": null,
      "outputs": []
    }
  ]
}